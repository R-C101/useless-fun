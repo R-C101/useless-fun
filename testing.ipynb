{
 "cells": [
  {
   "cell_type": "code",
   "execution_count": 1,
   "metadata": {},
   "outputs": [
    {
     "name": "stdout",
     "output_type": "stream",
     "text": [
      "Make sure to modulate the amplitude modulation\n"
     ]
    }
   ],
   "source": [
    "\n",
    "import requests\n",
    "\n",
    "# Fetch JSON data from the URL\n",
    "url = \"https://techy-api.vercel.app/api/json\"\n",
    "response = requests.get(url)\n",
    "data = response.json()\n",
    "\n",
    "# Check if the response contains the 'message' key\n",
    "if 'message' in data:\n",
    "    print(data['message'])\n"
   ]
  },
  {
   "cell_type": "code",
   "execution_count": 2,
   "metadata": {},
   "outputs": [
    {
     "name": "stdout",
     "output_type": "stream",
     "text": [
      "{'id': '6c3e7ab9c687ba956c631ff580e97946', 'text': 'An eighteenth-century German named Matthew Birchinger, known as \"the little man of Nuremberg,\" played four musical instruments including the bagpipes, was an expert calligrapher, and was the most famous stage magician of his day. He performed tricks with the cup and balls that have never been explained. Yet Birchinger had no hands, legs, or thighs, and was less than 29 inches tall.', 'source': 'djtech.net', 'source_url': 'http://www.djtech.net/humor/useless_facts.htm', 'language': 'en', 'permalink': 'https://uselessfacts.jsph.pl/api/v2/facts/6c3e7ab9c687ba956c631ff580e97946'}\n"
     ]
    }
   ],
   "source": [
    "import requests\n",
    "\n",
    "# Define the base URL of the API\n",
    "base_url = \"https://uselessfacts.jsph.pl/api/v2/facts\"\n",
    "\n",
    "# Define the endpoint you want to access\n",
    "endpoint = \"/random\"\n",
    "\n",
    "# Define parameters for language and content type\n",
    "params = {\n",
    "    \"language\": \"en\"  # Specify the language you want to receive the fact in (optional)\n",
    "}\n",
    "\n",
    "# Define headers for content type\n",
    "headers = {\n",
    "    \"Accept\": \"application/json\"  # Specify the desired content type (optional)\n",
    "}\n",
    "\n",
    "# Make the request\n",
    "response = requests.get(base_url + endpoint, params=params, headers=headers)\n",
    "\n",
    "# Check if the request was successful (status code 200)\n",
    "if response.status_code == 200:\n",
    "    # Print the response content\n",
    "    print(response.json())  # response.text if you prefer text/plain content type\n",
    "else:\n",
    "    # Print an error message if the request was not successful\n",
    "    print(\"Failed to fetch data:\", response.status_code)\n"
   ]
  }
 ],
 "metadata": {
  "kernelspec": {
   "display_name": "Python 3",
   "language": "python",
   "name": "python3"
  },
  "language_info": {
   "codemirror_mode": {
    "name": "ipython",
    "version": 3
   },
   "file_extension": ".py",
   "mimetype": "text/x-python",
   "name": "python",
   "nbconvert_exporter": "python",
   "pygments_lexer": "ipython3",
   "version": "3.11.7"
  }
 },
 "nbformat": 4,
 "nbformat_minor": 2
}
